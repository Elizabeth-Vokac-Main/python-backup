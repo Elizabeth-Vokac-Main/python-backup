{
 "cells": [
  {
   "cell_type": "markdown",
   "id": "48f2163c",
   "metadata": {},
   "source": [
    "# Liz VM CIS 150 project 2\n",
    "## CIS Project 2 math operations\n",
    "\n",
    "\n",
    "\n",
    "\n"
   ]
  },
  {
   "cell_type": "code",
   "execution_count": 38,
   "id": "92af0386",
   "metadata": {},
   "outputs": [
    {
     "data": {
      "text/plain": [
       "20"
      ]
     },
     "execution_count": 38,
     "metadata": {},
     "output_type": "execute_result"
    }
   ],
   "source": [
    " \n",
    "# asks user to input two numbers and performs math operations considering error control\n",
    "variable_1 = input(\"input any integer number here\")\n",
    "variable_2 = input(\"input a second integer here\")\n",
    "#sum of var1 and var2\n",
    "def sum(variable_1 + variable_2)\n",
    "\n"
   ]
  },
  {
   "cell_type": "code",
   "execution_count": 65,
   "id": "f079a630",
   "metadata": {},
   "outputs": [
    {
     "data": {
      "text/plain": [
       "720"
      ]
     },
     "execution_count": 65,
     "metadata": {},
     "output_type": "execute_result"
    }
   ],
   "source": [
    "# return 720\n",
    "def factorial(n):\n",
    "    i=n\n",
    "    p=n\n",
    "    while i>1:\n",
    "        i=i-1\n",
    "        p=p*(i)\n",
    "    return p\n",
    "factorial (6)"
   ]
  },
  {
   "cell_type": "code",
   "execution_count": 47,
   "id": "c6d2445f",
   "metadata": {},
   "outputs": [
    {
     "data": {
      "text/plain": [
       "2"
      ]
     },
     "execution_count": 47,
     "metadata": {},
     "output_type": "execute_result"
    }
   ],
   "source": [
    "# return 2\n",
    "def factorial(n):\n",
    "    i=n\n",
    "    p=n\n",
    "    while i>1:\n",
    "        i=i-1\n",
    "        p=p*(i)\n",
    "    return p\n",
    "factorial (2)"
   ]
  },
  {
   "cell_type": "code",
   "execution_count": 66,
   "id": "44f66fa8",
   "metadata": {},
   "outputs": [
    {
     "data": {
      "text/plain": [
       "720"
      ]
     },
     "execution_count": 66,
     "metadata": {},
     "output_type": "execute_result"
    }
   ],
   "source": [
    "# return error\n",
    "def factorial(n):\n",
    "    i=n\n",
    "    p=n\n",
    "    while i>1:\n",
    "        i=i-1\n",
    "        p=p*(i)\n",
    "    return p\n",
    "factorial (6)"
   ]
  },
  {
   "cell_type": "code",
   "execution_count": 12,
   "id": "1d10be7a",
   "metadata": {},
   "outputs": [
    {
     "data": {
      "text/plain": [
       "'input positive integer'"
      ]
     },
     "execution_count": 12,
     "metadata": {},
     "output_type": "execute_result"
    }
   ],
   "source": [
    "def factorial(n):\n",
    "    if n == 0:\n",
    "        return 1\n",
    "    if n < 0: \n",
    "        return 'error'\n",
    "    if type(n) == float:\n",
    "        return 'input positive integer'\n",
    "    i=n\n",
    "    p=n\n",
    "    while i>1:\n",
    "        i=i-1\n",
    "        p=p*(i)\n",
    "    return p\n",
    "    \n",
    "    \n",
    "factorial(3.5)"
   ]
  },
  {
   "cell_type": "code",
   "execution_count": 23,
   "id": "4b441519",
   "metadata": {},
   "outputs": [
    {
     "data": {
      "text/plain": [
       "720"
      ]
     },
     "execution_count": 23,
     "metadata": {},
     "output_type": "execute_result"
    }
   ],
   "source": [
    "def factorial(n):\n",
    "    if n == 0:\n",
    "        return '1'\n",
    "    if n < 0:\n",
    "        return 'input positive'\n",
    "    if type(n) == float:\n",
    "        return 'input integer'\n",
    "    i=n\n",
    "    p=n\n",
    "    while i > 1:\n",
    "        i = i-1\n",
    "        p = p*i\n",
    "    return p\n",
    "\n",
    "factorial(6)\n",
    "    "
   ]
  },
  {
   "cell_type": "code",
   "execution_count": null,
   "id": "c43845c1",
   "metadata": {},
   "outputs": [],
   "source": [
    "# return 1\n",
    "factorial(0)"
   ]
  },
  {
   "cell_type": "code",
   "execution_count": null,
   "id": "8f605415",
   "metadata": {},
   "outputs": [],
   "source": [
    "# return None\n",
    "factorial(-2)"
   ]
  },
  {
   "cell_type": "code",
   "execution_count": null,
   "id": "5b973ff0",
   "metadata": {},
   "outputs": [],
   "source": [
    "# return None\n",
    "factorial(1.2)"
   ]
  },
  {
   "cell_type": "code",
   "execution_count": 24,
   "id": "67f07cca",
   "metadata": {},
   "outputs": [
    {
     "data": {
      "text/plain": [
       "24"
      ]
     },
     "execution_count": 24,
     "metadata": {},
     "output_type": "execute_result"
    }
   ],
   "source": [
    "# From SOLUTIONS Returns the value of the factorial of num if it is defined, otherwise, returns None\n",
    "def factorial(num):\n",
    "    if type(num) is not int:\n",
    "        return None\n",
    "    if num < 0:\n",
    "        return None\n",
    "    if num == 0:\n",
    "        return 1\n",
    "    \n",
    "    i = 0\n",
    "    f = 1\n",
    "    while i < num:\n",
    "        i = i + 1\n",
    "        f = f * i\n",
    "        \n",
    "    return f\n",
    "\n",
    "factorial(4)"
   ]
  },
  {
   "cell_type": "code",
   "execution_count": null,
   "id": "714148cd",
   "metadata": {},
   "outputs": [],
   "source": []
  }
 ],
 "metadata": {
  "kernelspec": {
   "display_name": "Python 3 (ipykernel)",
   "language": "python",
   "name": "python3"
  },
  "language_info": {
   "codemirror_mode": {
    "name": "ipython",
    "version": 3
   },
   "file_extension": ".py",
   "mimetype": "text/x-python",
   "name": "python",
   "nbconvert_exporter": "python",
   "pygments_lexer": "ipython3",
   "version": "undefined.undefined.undefined"
  }
 },
 "nbformat": 4,
 "nbformat_minor": 5
}
